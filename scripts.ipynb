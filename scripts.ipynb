{
 "cells": [
  {
   "cell_type": "code",
   "execution_count": 7,
   "metadata": {},
   "outputs": [
    {
     "name": "stdout",
     "output_type": "stream",
     "text": [
      "Hello world\n"
     ]
    },
    {
     "name": "stdout",
     "output_type": "stream",
     "text": [
      "Du tastede føglende radius\n"
     ]
    }
   ],
   "source": [
    "print(\"Hello world\")\n",
    "\n",
    "r = input(\"Skriv radius\")\n",
    "\n",
    "print(\"Du tastede føglende\",r)\n"
   ]
  },
  {
   "cell_type": "code",
   "execution_count": 11,
   "metadata": {},
   "outputs": [
    {
     "name": "stdout",
     "output_type": "stream",
     "text": [
      "Hej Hamza\n"
     ]
    }
   ],
   "source": [
    "x = input(\"Skriv dit navn:\")\n",
    "\n",
    "print(\"Hej\",x)"
   ]
  },
  {
   "cell_type": "code",
   "execution_count": 12,
   "metadata": {},
   "outputs": [
    {
     "name": "stdout",
     "output_type": "stream",
     "text": [
      "Du er 15 eller yngre eller også er du myndig\n"
     ]
    }
   ],
   "source": [
    "x = input(\"Indtast alder:\") # \"18\" (string)\n",
    "x = float(x)\n",
    "\n",
    "if(x>18):\n",
    "    print(\"Du er myndig.\")\n",
    "elif (15<x < 18):\n",
    "    print(\"Du er ældre end 15 og yngre end 18\")\n",
    "else:\n",
    "    print(\"Du er enten 15 eller yngre eller også er du myndig\")\n",
    "\n",
    "\n"
   ]
  },
  {
   "cell_type": "code",
   "execution_count": 1,
   "metadata": {},
   "outputs": [
    {
     "name": "stdout",
     "output_type": "stream",
     "text": [
      "Hej igen\n"
     ]
    }
   ],
   "source": [
    "print(\"Hej igen\")"
   ]
  }
 ],
 "metadata": {
  "kernelspec": {
   "display_name": "Python 3",
   "language": "python",
   "name": "python3"
  },
  "language_info": {
   "codemirror_mode": {
    "name": "ipython",
    "version": 3
   },
   "file_extension": ".py",
   "mimetype": "text/x-python",
   "name": "python",
   "nbconvert_exporter": "python",
   "pygments_lexer": "ipython3",
   "version": "3.10.11"
  },
  "orig_nbformat": 4
 },
 "nbformat": 4,
 "nbformat_minor": 2
}
